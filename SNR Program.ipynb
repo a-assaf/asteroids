{
 "cells": [
  {
   "cell_type": "code",
   "execution_count": 35,
   "metadata": {},
   "outputs": [
    {
     "name": "stdout",
     "output_type": "stream",
     "text": [
      "[['cq0115.fits' '502.458' '1995.433' '1.' '18.00']\n",
      " ['502.070' '374.607' '35.00244' 'INDEF' '2042891.']\n",
      " ['375.423' '0.388' '-10.16674' 'INDEF' '1017.565']\n",
      " ['1' '-0.816' '1873' 'INDEF' '12407.49']]\n"
     ]
    }
   ],
   "source": [
    "import math\n",
    "import matplotlib.pyplot as plt\n",
    "import numpy as np\n",
    "import os\n",
    "import glob\n",
    "#loads Judit's file into a series of arrays\n",
    "\n",
    "x = np.loadtxt(r\"C:\\Users\\Abdullah\\Desktop\\Research\\Asteroids\\SNR\\Data/cq0115_combsn\", skiprows = 1-54, dtype=np.str, \n",
    "               unpack=True, usecols = (0,1,2,3))\n",
    "print(x)\n",
    "\n",
    "#photons = float(input(\"What is total number of photons (signal)? \"))\n",
    "#pixels = float(input(\"What is the number of pixels? \"))4\n",
    "#sky = float(input(\"What is the total number of photons per pixel from the background or sky? \"))\n",
    "\n",
    "#darke = float(input(\"What is the total number of dark current electrons per pixel? \"))\n",
    "#darke = 0\n",
    "#reade = float(input(\"What is the total number of electrons per pixel resulting from the read noise? \"))\n",
    "#reade = 8.2   \n",
    "#equation for the S/N of a measurement made with a CCD\n",
    "\n",
    "#ratio = photons / math.sqrt(photons + pixels*(sky + darke + (reade**2)))\n",
    "#print('The SNR is: ', ratio)\n",
    "#saves array as new file\n",
    "#np.savetxt('test.out', x, header = 'name of object taken from array',delimiter=',')"
   ]
  },
  {
   "cell_type": "code",
   "execution_count": null,
   "metadata": {},
   "outputs": [],
   "source": []
  }
 ],
 "metadata": {
  "kernelspec": {
   "display_name": "Python 3",
   "language": "python",
   "name": "python3"
  },
  "language_info": {
   "codemirror_mode": {
    "name": "ipython",
    "version": 3
   },
   "file_extension": ".py",
   "mimetype": "text/x-python",
   "name": "python",
   "nbconvert_exporter": "python",
   "pygments_lexer": "ipython3",
   "version": "3.7.1"
  }
 },
 "nbformat": 4,
 "nbformat_minor": 2
}
